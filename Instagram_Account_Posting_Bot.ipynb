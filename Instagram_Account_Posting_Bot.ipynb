{
  "nbformat": 4,
  "nbformat_minor": 0,
  "metadata": {
    "kernelspec": {
      "display_name": "Python 3",
      "language": "python",
      "name": "python3"
    },
    "language_info": {
      "codemirror_mode": {
        "name": "ipython",
        "version": 3
      },
      "file_extension": ".py",
      "mimetype": "text/x-python",
      "name": "python",
      "nbconvert_exporter": "python",
      "pygments_lexer": "ipython3",
      "version": "3.9.0"
    },
    "colab": {
      "name": "Instagram Account Posting Bot.ipynb",
      "provenance": [],
      "collapsed_sections": [
        "VEZup2o0fWuO"
      ]
    }
  },
  "cells": [
    {
      "cell_type": "code",
      "metadata": {
        "id": "gKhR7dgJfWt-"
      },
      "source": [
        "######################################################\n",
        "######            DO NOT PASS HERE              ######\n",
        "######################################################\n",
        "username = <ENTER USERNAME>\n",
        "password = <ENTER PASSWORD>\n",
        "#incomplete"
      ],
      "execution_count": 23,
      "outputs": []
    },
    {
      "cell_type": "code",
      "metadata": {
        "id": "HlVpdS9_fWt_"
      },
      "source": [
        "import subprocess\n",
        "import sys\n",
        "import os\n",
        "\n",
        "\n",
        "def install(package):\n",
        "    #subprocess.check_call([sys.executable, \"-m\", \"pip\", \"install\", str(package)])\n",
        "    os.system(\"pip install \"+ str(package))\n",
        "    reqs = subprocess.check_output([sys.executable, '-m', 'pip', 'show', str(package)])\n",
        "\n",
        "    print(str(reqs) + \"\\n\")\n",
        "    print(\"Installed \" + package.upper() + \"\\n\")\n",
        "    \n",
        "\n",
        "# install(\"autokey\")\n",
        "# install(\"selenium\")\n",
        "# install(\"webdriver_manager\")\n",
        "\n",
        "\n",
        "\n",
        "!pip install autokey\n",
        "!pip install selenium\n",
        "!pip install webdriver_manager\n",
        "!pip install PyAutoIt\n",
        "!pip install selenium\n",
        "!apt-get update # to update ubuntu to correctly run apt install\n",
        "!apt install chromium-chromedriver\n",
        "!cp /usr/lib/chromium-browser/chromedriver /usr/bin\n",
        "\n",
        "import sys\n",
        "\n",
        "sys.path.insert(0,'/usr/lib/chromium-browser/chromedriver')"
      ],
      "execution_count": null,
      "outputs": []
    },
    {
      "cell_type": "code",
      "metadata": {
        "id": "eWWt57Q2fWuA"
      },
      "source": [
        "import time\n",
        "\n",
        "from selenium import webdriver\n",
        "from selenium.webdriver.common.keys import Keys\n",
        "from selenium.webdriver.chrome.options import Options\n",
        "from selenium.webdriver.support import expected_conditions as EC\n",
        "from selenium.common.exceptions import StaleElementReferenceException\n",
        "\n",
        "import pickle\n",
        "import os\n",
        "import textwrap\n",
        "# import autoit\n",
        "\n"
      ],
      "execution_count": 8,
      "outputs": []
    },
    {
      "cell_type": "code",
      "metadata": {
        "id": "oy-kfxcrfWuC"
      },
      "source": [
        "def POPUPS(bot):\n",
        "    try :\n",
        "        button=bot.browser.find_elements_by_xpath(\"//*[contains(text(), 'Not Now')]\")\n",
        "        if len(button) > 0:\n",
        "            button[0].click()\n",
        "            #print('Closed Pop-Up')\n",
        "    except:\n",
        "        pass\n",
        "\n",
        "    time.sleep(5)\n",
        "    try :\n",
        "        button=bot.browser.find_elements_by_xpath(\"//*[contains(text(), 'Cancel')]\")\n",
        "        if len(button) > 0:\n",
        "            button[0].click()\n",
        "            #print('Closed Pop-Up')\n",
        "    except :\n",
        "        pass"
      ],
      "execution_count": 10,
      "outputs": []
    },
    {
      "cell_type": "code",
      "metadata": {
        "id": "9it2bBb1fWuC"
      },
      "source": [
        "class InstagramBot():\n",
        "    def __init__(self):\n",
        "        self.chrome_options = webdriver.ChromeOptions()\n",
        "        self.mobile_emulation = { \"deviceName\": \"Nexus 5\" }\n",
        "        self.chrome_options.add_experimental_option(\"mobileEmulation\", self.mobile_emulation)\n",
        "        self.chrome_options.add_argument('--headless')\n",
        "        self.chrome_options.add_argument('--no-sandbox')\n",
        "        self.chrome_options.add_argument('--disable-dev-shm-usage')\n",
        "        self.browser = webdriver.Chrome('chromedriver',options=self.chrome_options)\n",
        "        self.browser.refresh()\n",
        "\n",
        "        self.profile = \"\"\n",
        "        \n",
        "#-----------------------------------------\n",
        "#                L O G  I N \n",
        "#-----------------------------------------\n",
        "        \n",
        "        cookies_file_path='./cookies.pkl'\n",
        "        \n",
        "        cookies_websites=[\"https://instagram.com\"]\n",
        "        self.cookies_file_path = cookies_file_path\n",
        "        self.cookies_websites = cookies_websites\n",
        "        try:\n",
        "            # load cookies for given websites\n",
        "            cookies = pickle.load(open(self.cookies_file_path, \"rb\"))\n",
        "            for website in self.cookies_websites:\n",
        "                self.browser.get(website)\n",
        "                for cookie in cookies:\n",
        "                    self.browser.add_cookie(cookie)\n",
        "                self.browser.refresh()\n",
        "        except Exception as e:\n",
        "            # it'll fail for the first time, when cookie file is not present\n",
        "            print(str(e))\n",
        "            print(\"Error loading cookies\")\n",
        "\n",
        "    def save_cookies(self):\n",
        "        # save cookies\n",
        "        cookies = self.browser.get_cookies()\n",
        "        pickle.dump(cookies, open(self.cookies_file_path, \"wb\"))\n",
        "        \n",
        "    def is_IG_logged_in(self):\n",
        "        self.browser.get(\"https://www.instagram.com/accounts/login/\")\n",
        "        if 'Login • Instagram' in self.browser.title:\n",
        "            print(self.browser.title)\n",
        "            return False\n",
        "        else:\n",
        "            \n",
        "            return True\n",
        "        \n",
        "    def IG_login(self,username, password):\n",
        "        time.sleep(5)\n",
        "        login = self.browser.find_elements_by_class_name('_2hvTZ.pexuQ.zyHYP')\n",
        "        username_box = login[0]\n",
        "        username_box.send_keys(username)\n",
        "\n",
        "        password_box = login[1]\n",
        "        password_box.send_keys(password)\n",
        "        password_box.send_keys(Keys.RETURN)\n",
        "    def takescreenshot(self):\n",
        "        self.browser.save_screenshot('pic.png')\n",
        "    def goto(self,url):\n",
        "        self.browser.get(url)\n",
        "    def quit(self):\n",
        "        self.save_cookies()\n",
        "        self.browser.quit()"
      ],
      "execution_count": 24,
      "outputs": []
    },
    {
      "cell_type": "markdown",
      "metadata": {
        "id": "wp3HV9kEfWuE"
      },
      "source": [
        "# Scraping QUOTES FOR IG POSTS"
      ]
    },
    {
      "cell_type": "code",
      "metadata": {
        "id": "WZ_FnxSZfWuF"
      },
      "source": [
        "\n",
        "from bs4 import BeautifulSoup as bs\n",
        "import requests as r\n",
        "\n",
        "def export_to_file(quotes,letter):\n",
        "    j = 1\n",
        "    tags = ['“','”']\n",
        "\n",
        "    \n",
        "    try:\n",
        "        with open('./Quotes/quotes.txt',letter) as f:\n",
        "            for i in quotes:\n",
        "                text   = i.split('\\n')[1]\n",
        "                author = i.split('\\n')[4]\n",
        "                \n",
        "                \n",
        "#                 for k in tags:\n",
        "#                     text   = text.replace(k,'') \n",
        "                \n",
        "                try:\n",
        "                    f.write(text +' - '+author+'\\n')\n",
        "                except UnicodeEncodeError:\n",
        "                    print('Some Unicode Code Error')\n",
        "                    pass\n",
        "                \n",
        "#             print('File Written')\n",
        "            \n",
        "    except FileNotFoundError:\n",
        "        pass\n",
        "#         print('Something Wrong. No File!')\n",
        "\n",
        "\n",
        "def getQuote():\n",
        "    listOfQuotes = []\n",
        "    \n",
        "    print('###############################################')\n",
        "    print(' Iteration\\t|\\tNumber of Quotes\\t')\n",
        "    print('###############################################')\n",
        "    j = 1\n",
        "    for i in range(1,100):\n",
        "        \n",
        "        site = r.get('https://www.goodreads.com/quotes?page='+str(i))\n",
        "        soup = bs(site.text,'html.parser')\n",
        "\n",
        "        try:\n",
        "            site.raise_for_status()\n",
        "        except r.exceptions.HTTPError:\n",
        "            print('Some blasted Error!')\n",
        "            \n",
        "        listOfQuotes = soup.find_all(class_=\"quote\")\n",
        "        \n",
        "        Quotes_text = [item.find(class_=\"quoteDetails\").find(class_=\"quoteText\").text for item in listOfQuotes]\n",
        "        letter = 'a'   \n",
        "        if i ==1 :\n",
        "            letter = 'w'\n",
        "        export_to_file(Quotes_text,letter)\n",
        "        noQuotes = len(Quotes_text)\n",
        "        \n",
        "        if i == j :\n",
        "            \n",
        "            print('-----------------------------------------------')\n",
        "\n",
        "            print('   '+str(i)+'. \\t\\t|\\t   '+str(noQuotes)+'\\n')\n",
        "            j = j+20\n",
        "    return listOfQuotes"
      ],
      "execution_count": 37,
      "outputs": []
    },
    {
      "cell_type": "markdown",
      "metadata": {
        "id": "tgegvDt5fWuH"
      },
      "source": [
        "# Loading Quotes"
      ]
    },
    {
      "cell_type": "code",
      "metadata": {
        "scrolled": false,
        "id": "G0pFvZMyfWuH"
      },
      "source": [
        "def loadQuotes():\n",
        "    if os.path.isfile('./Quotes/quotes.txt'):\n",
        "        print('Quotes Found. No need to Scrape.')\n",
        "        with open('./Quotes/quotes.txt','r') as f:\n",
        "            lines = f.readlines()\n",
        "    else:\n",
        "        try:\n",
        "            os.mkdir('Quotes')\n",
        "        except:\n",
        "            pass\n",
        "        getQuote()\n",
        "        \n",
        "    return lines\n"
      ],
      "execution_count": 29,
      "outputs": []
    },
    {
      "cell_type": "markdown",
      "metadata": {
        "id": "nNIWgyGMfWuI"
      },
      "source": [
        "# Writing Text to Photo"
      ]
    },
    {
      "cell_type": "code",
      "metadata": {
        "id": "tS5a0x4UfWuI"
      },
      "source": [
        "from PIL import Image, ImageDraw, ImageFont\n"
      ],
      "execution_count": 31,
      "outputs": []
    },
    {
      "cell_type": "code",
      "metadata": {
        "id": "XSDsHS3CfWuJ"
      },
      "source": [
        "def picture_path(image_folder):\n",
        "    \n",
        "    path = os.getcwd()\n",
        "    \n",
        "    path = os.path.join(path,image_folder)\n",
        "    pictures = os.listdir(path)\n",
        "    img_paths = []\n",
        "    for i in pictures:\n",
        "        img_paths.append(os.path.join(path,i))\n",
        "    return img_paths\n",
        "\n",
        "def font_path():\n",
        "    path = os.getcwd()\n",
        "    font_folder = 'fonts'\n",
        "    path = os.path.join(path,font_folder)\n",
        "    font = os.listdir(path)\n",
        "    font_paths = []\n",
        "    for i in font:\n",
        "        font_paths.append(os.path.join(path,i))\n",
        "    return font_paths\n",
        "\n",
        "\n",
        "img_paths = picture_path('imgs')\n",
        "\n",
        "fnt_paths = font_path()\n"
      ],
      "execution_count": null,
      "outputs": []
    },
    {
      "cell_type": "code",
      "metadata": {
        "id": "B2xCn3nZkiY6"
      },
      "source": [
        ""
      ],
      "execution_count": null,
      "outputs": []
    },
    {
      "cell_type": "code",
      "metadata": {
        "id": "401_AD_ukidt"
      },
      "source": [
        ""
      ],
      "execution_count": null,
      "outputs": []
    },
    {
      "cell_type": "code",
      "metadata": {
        "id": "qOArN44qfWuJ"
      },
      "source": [
        "\n",
        "def word_fix(Text):\n",
        "    wrapper = textwrap.TextWrapper(width=40) \n",
        "    word_list = wrapper.wrap(text=Text.replace('  ',\"\")) \n",
        "    return word_list"
      ],
      "execution_count": 33,
      "outputs": []
    },
    {
      "cell_type": "code",
      "metadata": {
        "id": "ngdXuvgxfWuK"
      },
      "source": [
        ""
      ],
      "execution_count": null,
      "outputs": []
    },
    {
      "cell_type": "code",
      "metadata": {
        "id": "NXuyyyuRfWuL"
      },
      "source": [
        "def photo_creating(Text,Author,count):\n",
        "    image       = Image.open(img_paths[0])\n",
        "    font_type01 = ImageFont.truetype(fnt_paths[0],70)\n",
        "    font_type02 = ImageFont.truetype(fnt_paths[3],25)\n",
        "    font_type03 = ImageFont.truetype(fnt_paths[2],40)\n",
        "\n",
        "    image       = image.resize((round(900), round(900)))\n",
        "    draw        = ImageDraw.Draw(image)\n",
        "    W , H       = (900,900)\n",
        "    word_list        = word_fix(Text)\n",
        "    if len(Text)>300:\n",
        "        return 1\n",
        "\n",
        "\n",
        "    k=1\n",
        "    for p in word_list:\n",
        "        \n",
        "        x01, y01    = draw.textsize(p,font_type01)\n",
        "        height = (200+k)/2\n",
        "        draw.text(((W-x01)/2,height),text=p,font=font_type01,fill=(0,0,0,0))\n",
        "        k+=100\n",
        "\n",
        "    #author :\n",
        "    x02, y02    = draw.textsize(' --  ' +Author,font_type02)\n",
        "\n",
        "    draw.text(((W-x02)/2+150,height+80),text=' --  ' +Author,font=font_type02,fill=(0,0,0,0))\n",
        "\n",
        "    #IG ACCOUNT\n",
        "    x03, y03    = draw.textsize('~ Amzng Quot3s ~',font_type03)\n",
        "\n",
        "    draw.text(((W-x03)/2,900-250),text='~ Amzng Quot3s ~',font=font_type03,fill=(0,0,0,0))\n",
        "    draw.text(((W-x03)/2,900-250),text='~ Amzng Quot3s ~',font=font_type03,fill=(0,0,0,0))\n",
        "    draw.text(((W-x03)/2,900-250),text='~ Amzng Quot3s ~',font=font_type03,fill=(0,0,0,0))\n",
        "    \n",
        "    if os.path.isdir('imgs/Created_Pics/'):\n",
        "        image.save('imgs/Created_Pics/'+str(count)+'.jpg')\n",
        "    else:\n",
        "        os.mkdir('imgs/Created_Pics')\n",
        "    return 0"
      ],
      "execution_count": 34,
      "outputs": []
    },
    {
      "cell_type": "markdown",
      "metadata": {
        "id": "ezhbkGDtfWuM"
      },
      "source": [
        "# Rewriting Quote file for used Quotes"
      ]
    },
    {
      "cell_type": "code",
      "metadata": {
        "id": "wl3tJqkAfWuN"
      },
      "source": [
        "def rewritefile(Quotes_used,quotes):\n",
        "    used = open('./Quotes/used_quotes.txt','a')\n",
        "    with open('./Quotes/quotes.txt','w') as f:\n",
        "        \n",
        "        for i in quotes:\n",
        "            for j in Quotes_used:\n",
        "                found = False\n",
        "                if i.replace(' ','') == quotes[j].replace(' ',''):\n",
        "                    found = True\n",
        "                    break\n",
        "            if found==True:\n",
        "                    used.write(i)\n",
        "            else:\n",
        "                f.write(i)\n",
        "                \n",
        "    used.close()"
      ],
      "execution_count": 35,
      "outputs": []
    },
    {
      "cell_type": "markdown",
      "metadata": {
        "id": "VEZup2o0fWuO"
      },
      "source": [
        "# Posting to IG"
      ]
    },
    {
      "cell_type": "code",
      "metadata": {
        "id": "Njx2usjOfWuO"
      },
      "source": [
        "image_folder = 'imgs/Created_Pics'\n",
        "img_paths = picture_path(image_folder)\n",
        "print(img_paths[0])"
      ],
      "execution_count": null,
      "outputs": []
    },
    {
      "cell_type": "code",
      "metadata": {
        "id": "4s9B9GlQfWuP"
      },
      "source": [
        "hashtags02 = '#quotes #love #motivation #life #inspiration #quoteoftheday #instagram #motivationalquotes #follow #like #happiness #positivevibes #success #believe #loveyourself #lifestyle #selflove #happy #lovequote #poetry #mindset'\n",
        "hashtags   = hashtags02\n",
        "hashtags"
      ],
      "execution_count": null,
      "outputs": []
    },
    {
      "cell_type": "code",
      "metadata": {
        "id": "2XlvcJ0DfWuQ"
      },
      "source": [
        "def posting_IG(bot,text,author,hashtags):\n",
        "    path = os.getcwd()\n",
        "    image_folder = 'imgs/Created_Pics'\n",
        "    img_paths = picture_path(image_folder)\n",
        "    \n",
        "    for i in img_paths:\n",
        "        image_path  = i\n",
        "        POPUPS(bot) #close popups\n",
        "        new_post_btn = bot.browser.find_element_by_xpath(\"//div[@role='menuitem']\").click()\n",
        "        time.sleep(5)\n",
        "        autoit.win_active(\"Open\") \n",
        "        time.sleep(5)\n",
        "        autoit.control_send(\"Open\",\"Edit1\",image_path) \n",
        "        time.sleep(5)\n",
        "        autoit.control_send(\"Open\",\"Edit1\",\"{ENTER}\")\n",
        "\n",
        "        time.sleep(5)\n",
        "\n",
        "        bot.browser.find_element_by_xpath(\"\"\"//*[@id=\"react-root\"]/section/div[1]/header/div/div[2]/button\"\"\").click()\n",
        "\n",
        "        time.sleep(5)\n",
        "\n",
        "        txt = bot.browser.find_element_by_class_name('_472V_')\n",
        "        txt.send_keys('')\n",
        "        txt = bot.browser.find_element_by_class_name('_472V_')\n",
        "        hashs = hashtags\n",
        "        txt.send_keys(text+' - '+author+'\\n'+hashs) # Description\n",
        "        txt.send_keys(Keys.ENTER)\n",
        "\n",
        "        bot.browser.find_element_by_xpath(\"\"\"//*[@id=\"react-root\"]/section/div[1]/header/div/div[2]/button\"\"\").click()\n",
        "        os.remove(i)\n",
        "        break\n",
        "    time.sleep(5)\n",
        "        "
      ],
      "execution_count": 26,
      "outputs": []
    },
    {
      "cell_type": "code",
      "metadata": {
        "id": "jVJ7jD98fWuQ"
      },
      "source": [
        ""
      ],
      "execution_count": null,
      "outputs": []
    },
    {
      "cell_type": "markdown",
      "metadata": {
        "id": "tyg-EyTzfWuR"
      },
      "source": [
        "# Main"
      ]
    },
    {
      "cell_type": "code",
      "metadata": {
        "colab": {
          "base_uri": "https://localhost:8080/",
          "height": 346
        },
        "id": "HVs3pf0ofWuT",
        "outputId": "b9346d0a-78c0-4530-befb-c4aa194c60c7"
      },
      "source": [
        "\n",
        "\n",
        "bot = InstagramBot()\n",
        "\n",
        "####################################\n",
        "#    Logging In\n",
        "###################################\n",
        "if bot.is_IG_logged_in():\n",
        "        print(\"Cookies Loaded...\")\n",
        "else:\n",
        "    print(\"No Cookies Found. Logging In !\")\n",
        "    bot.IG_login(username, password)\n",
        "    \n",
        "####################################\n",
        "#    Loading PaGE\n",
        "###################################\n",
        "time.sleep(5)\n",
        "\n",
        "POPUPS(bot) #close popups\n",
        "####################################\n",
        "#    Loading Quotes\n",
        "###################################\n",
        "# lines = loadQuotes()\n",
        "####################################\n",
        "#    Loading Pictures\n",
        "###################################\n",
        "\n",
        "quotes_used = []\n",
        "print('#########################################')\n",
        "print('######         S T A T U S          #####')  \n",
        "print('#########################################')\n",
        "print('## Iterations\\tPhoto Created\\tPosted ##')\n",
        "print('-----------------------------------------')\n",
        "for i in range(0,2):\n",
        "    #print('##     1.\\t     ✓\\t\\t  ✘   ##')\n",
        "    Text,Author = lines[i].split('-')\n",
        "    skip = photo_creating(Text,Author,i)\n",
        "    print('##     '+str(i)+'.\\t     ✓',end=\"\",flush=True)\n",
        "    \n",
        "####################################\n",
        "#    Post Photo\n",
        "###################################\n",
        "\n",
        "\n",
        "\n",
        "    # if skip>0:\n",
        "    #     print('\\t\\t  ✘   ##')\n",
        "    #     pass\n",
        "    # else:\n",
        "    #     posting_IG(bot,Text,Author,hashtags)\n",
        "    #     print('\\t\\t  ✓   ##')\n",
        "    \n",
        "    quotes_used.append(i)\n",
        "\n",
        "\n",
        "\n",
        "\n",
        "\n",
        "    #print('Saved Used Quote !')\n",
        "####################################\n",
        "#    Rewrite Quote text File\n",
        "###################################    \n",
        "rewritefile(quotes_used,lines)\n",
        "print('Rewrote File !')\n",
        "####################################\n",
        "#    ENDING\n",
        "################################### \n",
        "# bot.quit()"
      ],
      "execution_count": 25,
      "outputs": [
        {
          "output_type": "stream",
          "text": [
            "Login • Instagram\n",
            "No Cookies Found. Logging In !\n",
            "#########################################\n",
            "######         S T A T U S          #####\n",
            "#########################################\n",
            "## Iterations\tPhoto Created\tPosted ##\n",
            "-----------------------------------------\n"
          ],
          "name": "stdout"
        },
        {
          "output_type": "error",
          "ename": "NameError",
          "evalue": "ignored",
          "traceback": [
            "\u001b[0;31m---------------------------------------------------------------------------\u001b[0m",
            "\u001b[0;31mNameError\u001b[0m                                 Traceback (most recent call last)",
            "\u001b[0;32m<ipython-input-25-235d8304c8c6>\u001b[0m in \u001b[0;36m<module>\u001b[0;34m()\u001b[0m\n\u001b[1;32m     34\u001b[0m \u001b[0;32mfor\u001b[0m \u001b[0mi\u001b[0m \u001b[0;32min\u001b[0m \u001b[0mrange\u001b[0m\u001b[0;34m(\u001b[0m\u001b[0;36m0\u001b[0m\u001b[0;34m,\u001b[0m\u001b[0;36m2\u001b[0m\u001b[0;34m)\u001b[0m\u001b[0;34m:\u001b[0m\u001b[0;34m\u001b[0m\u001b[0;34m\u001b[0m\u001b[0m\n\u001b[1;32m     35\u001b[0m     \u001b[0;31m#print('##     1.\\t     ✓\\t\\t  ✘   ##')\u001b[0m\u001b[0;34m\u001b[0m\u001b[0;34m\u001b[0m\u001b[0;34m\u001b[0m\u001b[0m\n\u001b[0;32m---> 36\u001b[0;31m     \u001b[0mText\u001b[0m\u001b[0;34m,\u001b[0m\u001b[0mAuthor\u001b[0m \u001b[0;34m=\u001b[0m \u001b[0mlines\u001b[0m\u001b[0;34m[\u001b[0m\u001b[0mi\u001b[0m\u001b[0;34m]\u001b[0m\u001b[0;34m.\u001b[0m\u001b[0msplit\u001b[0m\u001b[0;34m(\u001b[0m\u001b[0;34m'-'\u001b[0m\u001b[0;34m)\u001b[0m\u001b[0;34m\u001b[0m\u001b[0;34m\u001b[0m\u001b[0m\n\u001b[0m\u001b[1;32m     37\u001b[0m     \u001b[0mskip\u001b[0m \u001b[0;34m=\u001b[0m \u001b[0mphoto_creating\u001b[0m\u001b[0;34m(\u001b[0m\u001b[0mText\u001b[0m\u001b[0;34m,\u001b[0m\u001b[0mAuthor\u001b[0m\u001b[0;34m,\u001b[0m\u001b[0mi\u001b[0m\u001b[0;34m)\u001b[0m\u001b[0;34m\u001b[0m\u001b[0;34m\u001b[0m\u001b[0m\n\u001b[1;32m     38\u001b[0m     \u001b[0mprint\u001b[0m\u001b[0;34m(\u001b[0m\u001b[0;34m'##     '\u001b[0m\u001b[0;34m+\u001b[0m\u001b[0mstr\u001b[0m\u001b[0;34m(\u001b[0m\u001b[0mi\u001b[0m\u001b[0;34m)\u001b[0m\u001b[0;34m+\u001b[0m\u001b[0;34m'.\\t     ✓'\u001b[0m\u001b[0;34m,\u001b[0m\u001b[0mend\u001b[0m\u001b[0;34m=\u001b[0m\u001b[0;34m\"\"\u001b[0m\u001b[0;34m,\u001b[0m\u001b[0mflush\u001b[0m\u001b[0;34m=\u001b[0m\u001b[0;32mTrue\u001b[0m\u001b[0;34m)\u001b[0m\u001b[0;34m\u001b[0m\u001b[0;34m\u001b[0m\u001b[0m\n",
            "\u001b[0;31mNameError\u001b[0m: name 'lines' is not defined"
          ]
        }
      ]
    },
    {
      "cell_type": "code",
      "metadata": {
        "id": "dHHerYOLnoSv"
      },
      "source": [
        "bot.takescreenshot()"
      ],
      "execution_count": 26,
      "outputs": []
    },
    {
      "cell_type": "code",
      "metadata": {
        "id": "QcmGTUBTfWuU"
      },
      "source": [
        "bot.quit()"
      ],
      "execution_count": 27,
      "outputs": []
    },
    {
      "cell_type": "code",
      "metadata": {
        "colab": {
          "base_uri": "https://localhost:8080/"
        },
        "id": "cVk7VLr0p8QB",
        "outputId": "276e5814-e37a-409c-a900-1bd46d65da0c"
      },
      "source": [
        "lines = loadQuotes()"
      ],
      "execution_count": 38,
      "outputs": [
        {
          "output_type": "stream",
          "text": [
            "Quotes Found. No need to Scrape.\n"
          ],
          "name": "stdout"
        }
      ]
    },
    {
      "cell_type": "code",
      "metadata": {
        "colab": {
          "base_uri": "https://localhost:8080/"
        },
        "id": "rHsZc46gre2q",
        "outputId": "e4251fd3-5e1c-4d85-d397-6ba0b30495ac"
      },
      "source": [
        "len(lines)"
      ],
      "execution_count": 40,
      "outputs": [
        {
          "output_type": "execute_result",
          "data": {
            "text/plain": [
              "2970"
            ]
          },
          "metadata": {
            "tags": []
          },
          "execution_count": 40
        }
      ]
    }
  ]
}